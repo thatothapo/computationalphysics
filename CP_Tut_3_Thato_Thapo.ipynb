{
  "cells": [
    {
      "cell_type": "markdown",
      "metadata": {
        "id": "view-in-github",
        "colab_type": "text"
      },
      "source": [
        "<a href=\"https://colab.research.google.com/github/thatothapo/computationalphysics/blob/main/CP_Tut_3_Thato_Thapo.ipynb\" target=\"_parent\"><img src=\"https://colab.research.google.com/assets/colab-badge.svg\" alt=\"Open In Colab\"/></a>"
      ]
    },
    {
      "cell_type": "markdown",
      "id": "9c9ec66a",
      "metadata": {
        "id": "9c9ec66a"
      },
      "source": [
        "# Computational Physics Tutorial 3"
      ]
    },
    {
      "cell_type": "markdown",
      "id": "7f18c45c",
      "metadata": {
        "id": "7f18c45c"
      },
      "source": [
        "## Question 1"
      ]
    },
    {
      "cell_type": "markdown",
      "id": "d2189c9f",
      "metadata": {
        "id": "d2189c9f"
      },
      "source": [
        "We want to use Monte Carlo integration with importance sampling to estimate the integral: $$ I = \\int^{6}_{-1} dx \\int^{5}_{0} dy \\int^{5}_{0} dz e^{-\\tfrac{x}{3}} \\bigg(1+0.1\\log \\sqrt{x^{2} + y^{2} + z^{x} + 1}\\bigg)$$"
      ]
    },
    {
      "cell_type": "markdown",
      "id": "d2dc0735",
      "metadata": {
        "id": "d2dc0735"
      },
      "source": [
        "So taking $ f(x,y,z) = e^{-x/3} (1+0.1\\log \\sqrt{x^{2} + y^{2} + z^{x} + 1})$ we can choose out weight function (with normalization) to be $$ w(x) = \\frac{e^{6}}{e^{7}-1}e^{-x} $$"
      ]
    },
    {
      "cell_type": "code",
      "execution_count": null,
      "id": "b23359dc",
      "metadata": {
        "id": "b23359dc"
      },
      "outputs": [],
      "source": [
        "import numpy as np\n",
        "import matplotlib.pyplot as plt\n",
        "import numpy.random as random"
      ]
    },
    {
      "cell_type": "code",
      "execution_count": null,
      "id": "79667f40",
      "metadata": {
        "id": "79667f40"
      },
      "outputs": [],
      "source": [
        "N = 10000\n",
        "a,b,c,d,e,f_ = -1,6,0,5,0,5        # Integration bounds [a,b,c,d,e,f]\n",
        "\n",
        "def f(x_,y_,z_):\n",
        "    return np.exp(-x_/3)*(1+0.1*np.log(np.sqrt(x_**2 + y_**2 + z_**2 + 1)))\n",
        "\n",
        "def w(x_):\n",
        "    return (np.exp(6)/(np.exp(7)-1))*np.exp(-x_)"
      ]
    },
    {
      "cell_type": "markdown",
      "id": "e17a182b",
      "metadata": {
        "id": "e17a182b"
      },
      "source": [
        "We then use the Rejection method to sample $x$ from the weight function, while sampling $y$ and $z$ from the normal distribution, to then calculate the integral $$ I \\approx (b-a)(d-c)(f-e)\\frac{1}{N}\\sum^{N}_{i=1} w(x_{i})\\frac{f(x_{i}}{w(x_{i})} $$"
      ]
    },
    {
      "cell_type": "code",
      "execution_count": null,
      "id": "055fc045",
      "metadata": {
        "id": "055fc045",
        "outputId": "6f99ff50-f479-4258-d05f-a9dffed5be74"
      },
      "outputs": [
        {
          "name": "stdout",
          "output_type": "stream",
          "text": [
            "74.27632718697221\n"
          ]
        }
      ],
      "source": [
        "# Rejection method to sample x\n",
        "\n",
        "x1 = np.linspace(a, b, N)\n",
        "rv = w(x1)\n",
        "ru = random.uniform(a, b, N)\n",
        "\n",
        "X = []\n",
        "#R = []\n",
        "for i in range(N):\n",
        "    if rv[i] < w(ru[i]):\n",
        "        X.append(ru[i])\n",
        "#        R.append(rv[i])\n",
        "\n",
        "x = np.array(X)\n",
        "y = random.uniform(c, d, len(x))\n",
        "z = random.uniform(e, f_, len(x))\n",
        "\n",
        "S = ((b-a)*(d-c)*(f_-e)/N)*sum(w(x)*(f(x,y,z)/w(x)))\n",
        "\n",
        "print(S)"
      ]
    },
    {
      "cell_type": "markdown",
      "id": "60c94e07",
      "metadata": {
        "id": "60c94e07"
      },
      "source": [
        "## Question 2"
      ]
    },
    {
      "cell_type": "markdown",
      "id": "999e2cbd",
      "metadata": {
        "id": "999e2cbd"
      },
      "source": [
        "Want to use the Metropolis method to estimate: $$ \\langle x \\rangle = \\frac{\\int^{\\infty}_{0}xe^{-x}dx}{\\int^{\\infty}_{0}e^{-x}dx}. $$ First we want to generate a sequence of $x_{i}$ according to $p(x) = e^{-x}$, take $x = [0,20]$"
      ]
    },
    {
      "cell_type": "code",
      "execution_count": null,
      "id": "299076bf",
      "metadata": {
        "id": "299076bf",
        "outputId": "2e1b4902-01e9-4d93-9232-7ed9ed67da73"
      },
      "outputs": [
        {
          "name": "stdout",
          "output_type": "stream",
          "text": [
            "[ 1.20132893e-17 -1.66570586e-01 -3.07313114e-01  4.39196511e-01\n",
            "  5.47060860e-01 -2.21419122e+00 -5.10890411e-01 -2.25527560e+00\n",
            " -3.39034057e+00 -6.28163759e+00 -7.61812615e+00 -6.77139808e+00\n",
            " -5.15375045e+00 -7.46912196e+00 -9.27621094e+00 -1.07399267e+01\n",
            " -1.13915239e+01 -1.28085230e+01 -1.20809093e+01 -1.50619475e+01\n",
            " -1.57066463e+01 -1.70974740e+01 -1.75295241e+01 -1.79339527e+01\n",
            " -1.88509678e+01 -1.84085662e+01 -1.92022274e+01 -1.79091320e+01\n",
            " -1.76831632e+01 -1.99608698e+01 -1.85034308e+01 -1.72900793e+01\n",
            " -1.54068080e+01 -1.75067722e+01 -1.93221379e+01 -2.20666539e+01\n",
            " -2.41781195e+01 -2.48862663e+01 -2.48277870e+01 -2.57843615e+01\n",
            " -2.82604892e+01 -2.76621939e+01 -2.84425767e+01 -3.03784953e+01\n",
            " -3.28702966e+01 -3.40173438e+01 -3.63431961e+01 -3.66169379e+01\n",
            " -3.79870370e+01 -3.98948548e+01 -3.83899898e+01 -3.70307735e+01\n",
            " -3.63468858e+01 -3.62792088e+01 -3.61924225e+01 -3.67991615e+01\n",
            " -3.77044181e+01 -3.89362400e+01 -4.16618632e+01 -4.19252983e+01\n",
            " -4.04242173e+01 -4.04616450e+01 -4.29700555e+01 -4.50454478e+01\n",
            " -4.78477746e+01 -4.76647271e+01 -4.69124518e+01 -4.84611289e+01\n",
            " -5.11406214e+01 -5.28867983e+01 -5.49217341e+01 -5.27800737e+01\n",
            " -5.37212766e+01 -5.57980307e+01 -5.74281023e+01 -5.99472562e+01\n",
            " -6.01384202e+01 -6.17506527e+01 -6.36942611e+01 -6.27915102e+01\n",
            " -6.29010840e+01 -6.12377081e+01 -6.29816359e+01 -6.29044685e+01\n",
            " -6.35987339e+01 -6.29548710e+01 -6.36545682e+01 -6.24513984e+01\n",
            " -6.52481361e+01 -6.58991805e+01 -6.70664539e+01 -6.88115627e+01\n",
            " -6.90257081e+01 -6.95928018e+01 -7.08146720e+01 -7.07447775e+01\n",
            " -7.36206393e+01 -7.59295191e+01 -7.42746289e+01 -7.61538970e+01\n",
            " -7.49558895e+01 -7.52674375e+01 -7.56904507e+01 -7.85118227e+01\n",
            " -7.63507941e+01 -7.72908287e+01 -7.80437461e+01 -7.82345099e+01\n",
            " -7.92920425e+01 -7.97689187e+01 -7.83623605e+01 -7.93109142e+01\n",
            " -8.04640119e+01 -8.30598068e+01 -8.45296400e+01 -8.44617357e+01\n",
            " -8.72680661e+01 -8.59784956e+01 -8.64538366e+01 -8.64748264e+01\n",
            " -8.66634017e+01 -8.68182492e+01 -8.74860114e+01 -8.74074381e+01\n",
            " -8.58658806e+01 -8.86865171e+01 -8.95599889e+01 -8.92401135e+01\n",
            " -9.11544219e+01 -9.00086494e+01 -9.08355825e+01 -9.26857058e+01\n",
            " -9.48649807e+01 -9.50963634e+01 -9.59807305e+01 -9.88779205e+01\n",
            " -9.97269714e+01 -1.01876015e+02 -1.02929908e+02 -1.04813541e+02\n",
            " -1.04411994e+02 -1.06559938e+02 -1.08924380e+02 -1.10043950e+02\n",
            " -1.10850988e+02 -1.13192805e+02 -1.15094086e+02 -1.15344765e+02\n",
            " -1.17261048e+02 -1.19576702e+02 -1.21539149e+02 -1.22291980e+02\n",
            " -1.23965387e+02 -1.26383063e+02 -1.28402614e+02 -1.31020981e+02\n",
            " -1.30986086e+02 -1.31045396e+02 -1.32957997e+02 -1.34172272e+02\n",
            " -1.35420796e+02 -1.36256762e+02 -1.38621846e+02 -1.41272635e+02\n",
            " -1.44034272e+02 -1.44934683e+02 -1.44452331e+02 -1.46949249e+02\n",
            " -1.47343529e+02 -1.49468589e+02 -1.52003347e+02 -1.53378879e+02\n",
            " -1.54140066e+02 -1.56338498e+02 -1.58399684e+02 -1.61035993e+02\n",
            " -1.61344371e+02 -1.61135341e+02 -1.62884112e+02 -1.62456671e+02\n",
            " -1.63647525e+02 -1.63270386e+02 -1.65077171e+02 -1.64558331e+02\n",
            " -1.63934603e+02 -1.64063429e+02 -1.63853786e+02 -1.63455609e+02\n",
            " -1.64185098e+02 -1.66562972e+02 -1.68505861e+02 -1.71495779e+02\n",
            " -1.71620690e+02 -1.73570909e+02 -1.75553787e+02 -1.75438842e+02\n",
            " -1.77646648e+02 -1.78502676e+02 -1.79306375e+02 -1.78136294e+02\n",
            " -1.79024819e+02 -1.79123664e+02 -1.76167289e+02 -1.78323578e+02\n",
            " -1.80368138e+02 -1.81546334e+02 -1.83199944e+02 -1.84933799e+02\n",
            " -1.84458318e+02 -1.87108092e+02 -1.88959244e+02 -1.89568380e+02\n",
            " -1.88315877e+02 -1.90852329e+02 -1.91608764e+02 -1.92013896e+02\n",
            " -1.90339399e+02 -1.89080028e+02 -1.90355167e+02 -1.91485792e+02\n",
            " -1.92857558e+02 -1.93655440e+02 -1.93513150e+02 -1.95525874e+02\n",
            " -1.96799668e+02 -1.94508667e+02 -1.96430827e+02 -1.97787781e+02\n",
            " -2.00692748e+02 -2.01534813e+02 -2.03576578e+02 -2.04430957e+02\n",
            " -2.04291597e+02 -2.04204106e+02 -2.04868672e+02 -2.04267504e+02\n",
            " -2.05747759e+02 -2.08007360e+02 -2.07510492e+02 -2.07268051e+02\n",
            " -2.09507567e+02 -2.11965806e+02 -2.12296206e+02 -2.14884055e+02\n",
            " -2.16691309e+02 -2.16833696e+02 -2.16360638e+02 -2.18351319e+02\n",
            " -2.17613227e+02 -2.17722289e+02 -2.18947208e+02 -2.20287207e+02\n",
            " -2.20555169e+02 -2.20941316e+02 -2.19329411e+02 -2.21706048e+02\n",
            " -2.22387051e+02 -2.23999523e+02 -2.23796321e+02 -2.23734717e+02\n",
            " -2.22909558e+02 -2.23462125e+02 -2.23554034e+02 -2.23112771e+02\n",
            " -2.25030410e+02 -2.24637648e+02 -2.27195612e+02 -2.28730503e+02\n",
            " -2.31019629e+02 -2.32532312e+02 -2.32918576e+02 -2.31910114e+02\n",
            " -2.31452623e+02 -2.32837269e+02 -2.34054919e+02 -2.35955166e+02\n",
            " -2.35270364e+02 -2.33743940e+02 -2.33688417e+02 -2.31669906e+02\n",
            " -2.32692038e+02 -2.32534640e+02 -2.33563745e+02 -2.36472731e+02\n",
            " -2.37941630e+02 -2.38332935e+02 -2.41324077e+02 -2.42658451e+02\n",
            " -2.43412452e+02 -2.43191580e+02 -2.46070716e+02 -2.46374477e+02\n",
            " -2.44472177e+02 -2.45678910e+02 -2.46090213e+02 -2.47873876e+02\n",
            " -2.48758394e+02 -2.48817326e+02 -2.50784514e+02 -2.51254784e+02\n",
            " -2.50628996e+02 -2.49790105e+02 -2.51168716e+02 -2.53580621e+02\n",
            " -2.52529489e+02 -2.54400055e+02 -2.55696235e+02 -2.58096769e+02\n",
            " -2.59103987e+02 -2.61454461e+02 -2.60509377e+02 -2.60250725e+02\n",
            " -2.62409440e+02 -2.65340733e+02 -2.67535948e+02 -2.66487966e+02\n",
            " -2.66421357e+02 -2.66533913e+02 -2.66289225e+02 -2.67693524e+02\n",
            " -2.67304269e+02 -2.70165959e+02 -2.71358948e+02 -2.73504732e+02\n",
            " -2.75566684e+02 -2.75668950e+02 -2.77188584e+02 -2.78225669e+02\n",
            " -2.79684950e+02 -2.80666631e+02 -2.81367305e+02 -2.79947031e+02\n",
            " -2.80814182e+02 -2.82242250e+02 -2.82042788e+02 -2.84559461e+02\n",
            " -2.86733767e+02 -2.87165671e+02 -2.88404318e+02 -2.90236508e+02\n",
            " -2.91317609e+02 -2.92364599e+02 -2.92485246e+02 -2.94945982e+02\n",
            " -2.96750520e+02 -2.96780783e+02 -2.98568804e+02 -2.99314264e+02\n",
            " -2.99383989e+02 -3.00508918e+02 -3.02470326e+02 -3.02314656e+02\n",
            " -3.03549848e+02 -3.03052903e+02 -3.03708985e+02 -3.05229288e+02\n",
            " -3.07926120e+02 -3.07423365e+02 -3.09505650e+02 -3.09195216e+02\n",
            " -3.08795486e+02 -3.11225830e+02 -3.13707175e+02 -3.13050396e+02\n",
            " -3.15591800e+02 -3.15408010e+02 -3.16283484e+02 -3.16868462e+02\n",
            " -3.17696206e+02 -3.18988569e+02 -3.21096695e+02 -3.20046392e+02\n",
            " -3.20633948e+02 -3.19410300e+02 -3.20382624e+02 -3.21005402e+02\n",
            " -3.21391875e+02 -3.23609919e+02 -3.24200125e+02 -3.25835145e+02\n",
            " -3.26759796e+02 -3.27940067e+02 -3.27324429e+02 -3.28117567e+02\n",
            " -3.29101403e+02 -3.29927919e+02 -3.28952323e+02 -3.30724549e+02\n",
            " -3.31007411e+02 -3.33476064e+02 -3.34875324e+02 -3.35655517e+02\n",
            " -3.36580867e+02 -3.38975560e+02 -3.38513709e+02 -3.39438927e+02\n",
            " -3.41053222e+02 -3.42943116e+02 -3.43601532e+02 -3.44681278e+02\n",
            " -3.47114705e+02 -3.48309156e+02 -3.51043826e+02 -3.48884193e+02\n",
            " -3.49929828e+02 -3.48065890e+02 -3.49928033e+02 -3.52626778e+02\n",
            " -3.55265025e+02 -3.56152824e+02 -3.58236335e+02 -3.59006456e+02\n",
            " -3.58563294e+02 -3.58941534e+02 -3.61215385e+02 -3.60694755e+02\n",
            " -3.63518232e+02 -3.63819637e+02 -3.66104522e+02 -3.66281355e+02\n",
            " -3.65585298e+02 -3.63897179e+02 -3.63803785e+02 -3.63840151e+02\n",
            " -3.63877862e+02 -3.65078087e+02 -3.65376269e+02 -3.67409074e+02\n",
            " -3.65489117e+02 -3.65504584e+02 -3.66837528e+02 -3.69079317e+02\n",
            " -3.70424260e+02 -3.69823176e+02 -3.71309400e+02 -3.73977315e+02\n",
            " -3.75022454e+02 -3.77787151e+02 -3.79581673e+02 -3.76829565e+02\n",
            " -3.79057284e+02 -3.81857605e+02 -3.82618736e+02 -3.83525147e+02\n",
            " -3.85358487e+02 -3.87266809e+02 -3.89094844e+02 -3.89170309e+02\n",
            " -3.89240367e+02 -3.89269397e+02 -3.90157474e+02 -3.92498816e+02\n",
            " -3.95461656e+02 -3.94825197e+02 -3.96912032e+02 -3.98219592e+02\n",
            " -4.00003070e+02 -3.99916962e+02 -4.01274651e+02 -4.01322574e+02\n",
            " -4.03581459e+02 -4.05242683e+02 -4.06796581e+02 -4.07792401e+02\n",
            " -4.07795491e+02 -4.10657216e+02 -4.12957175e+02 -4.15201517e+02\n",
            " -4.15865712e+02 -4.17666127e+02 -4.17681677e+02 -4.18447194e+02\n",
            " -4.16880211e+02 -4.18541397e+02 -4.20013909e+02 -4.21364663e+02\n",
            " -4.24179615e+02 -4.24559368e+02 -4.27228734e+02 -4.29663264e+02\n",
            " -4.32007852e+02 -4.33488192e+02 -4.36253394e+02 -4.36220332e+02\n",
            " -4.37712682e+02 -4.38972086e+02 -4.38975470e+02 -4.40777585e+02\n",
            " -4.41603724e+02 -4.40329138e+02 -4.38982454e+02 -4.39013243e+02\n",
            " -4.41924565e+02 -4.44160569e+02 -4.45171165e+02 -4.44363840e+02\n",
            " -4.46413463e+02 -4.46406573e+02 -4.48770634e+02 -4.47490103e+02\n",
            " -4.47957250e+02 -4.46703377e+02 -4.46521563e+02 -4.46604005e+02\n",
            " -4.47076477e+02 -4.47012506e+02 -4.49501420e+02 -4.50987404e+02\n",
            " -4.52661077e+02 -4.55278406e+02 -4.56593374e+02 -4.57000078e+02\n",
            " -4.57336618e+02 -4.58290369e+02 -4.59606843e+02 -4.58444434e+02\n",
            " -4.58469208e+02 -4.61281352e+02 -4.59720937e+02 -4.62169402e+02\n",
            " -4.61792430e+02 -4.61782605e+02 -4.62401472e+02 -4.63287368e+02\n",
            " -4.66008881e+02 -4.66019803e+02 -4.66074259e+02 -4.68566295e+02\n",
            " -4.68963588e+02 -4.71771441e+02 -4.72790939e+02 -4.72963486e+02\n",
            " -4.74987693e+02 -4.75046732e+02 -4.74378632e+02 -4.76714610e+02\n",
            " -4.78920583e+02 -4.81488297e+02 -4.83555836e+02 -4.86054359e+02\n",
            " -4.87928901e+02 -4.90751581e+02 -4.90581857e+02 -4.93560267e+02\n",
            " -4.93370980e+02 -4.93451878e+02 -4.93679798e+02 -4.95286233e+02\n",
            " -4.95641575e+02 -4.95492559e+02 -4.95473806e+02 -4.96236023e+02\n",
            " -4.95346086e+02 -4.94061995e+02 -4.95166307e+02 -4.96817862e+02\n",
            " -4.98517951e+02 -5.00511962e+02 -5.02267097e+02 -5.01623043e+02\n",
            " -5.03296057e+02 -5.02950635e+02 -5.03907374e+02 -5.06660345e+02\n",
            " -5.04050960e+02 -5.04100820e+02 -5.05393431e+02 -5.06818232e+02\n",
            " -5.07316212e+02 -5.09516901e+02 -5.11015325e+02 -5.12769307e+02\n",
            " -5.15157070e+02 -5.17781075e+02 -5.17046264e+02 -5.15698937e+02\n",
            " -5.18503476e+02 -5.19633378e+02 -5.16689982e+02 -5.15899109e+02\n",
            " -5.13913995e+02 -5.16699833e+02 -5.18420451e+02 -5.19470584e+02\n",
            " -5.20580877e+02 -5.21874235e+02 -5.22642020e+02 -5.25568634e+02\n",
            " -5.25268112e+02 -5.27972519e+02 -5.29384174e+02 -5.32191915e+02\n",
            " -5.32783243e+02 -5.35272904e+02 -5.36940829e+02 -5.34810867e+02\n",
            " -5.36154104e+02 -5.33359861e+02 -5.34515316e+02 -5.34705549e+02\n",
            " -5.34481714e+02 -5.34775622e+02 -5.35785656e+02 -5.38766320e+02\n",
            " -5.38751234e+02 -5.40982161e+02 -5.41507182e+02 -5.41909483e+02\n",
            " -5.42861421e+02 -5.42123130e+02 -5.42232423e+02 -5.43682572e+02\n",
            " -5.46150060e+02 -5.48616731e+02 -5.51091745e+02 -5.52749302e+02\n",
            " -5.52667666e+02 -5.51479751e+02 -5.53989680e+02 -5.56583645e+02\n",
            " -5.55636841e+02 -5.55087864e+02 -5.57390853e+02 -5.56855281e+02\n",
            " -5.56912780e+02 -5.55031856e+02 -5.54907149e+02 -5.54468325e+02\n",
            " -5.54942017e+02 -5.56073724e+02 -5.57403893e+02 -5.57151478e+02\n",
            " -5.56899010e+02 -5.56432977e+02 -5.58904902e+02 -5.60331066e+02\n",
            " -5.61931019e+02 -5.64230830e+02 -5.66606781e+02 -5.66494717e+02\n",
            " -5.65949110e+02 -5.65912153e+02 -5.67557253e+02 -5.68735670e+02\n",
            " -5.70359924e+02 -5.72761948e+02 -5.74118895e+02 -5.74650317e+02\n",
            " -5.77529043e+02 -5.75504050e+02 -5.76605764e+02 -5.76356517e+02\n",
            " -5.78190026e+02 -5.77932051e+02]\n"
          ]
        },
        {
          "data": {
            "image/png": "[encoded data removed]",
            "text/plain": [
              "<Figure size 432x288 with 1 Axes>"
            ]
          },
          "metadata": {
            "needs_background": "light"
          },
          "output_type": "display_data"
        }
      ],
      "source": [
        "N = 1000\n",
        "\n",
        "a, b = 0, 20\n",
        "\n",
        "def p(x_):\n",
        "    return np.exp(-x_)\n",
        "\n",
        "xp = np.linspace(a, b, N)\n",
        "\n",
        "pmax = max(p(xp))\n",
        "# print(pmax)\n",
        "\n",
        "def p1(x_):\n",
        "    return p(x_) - pmax\n",
        "\n",
        "x0_guess = 1.0\n",
        "x0 = fsolve(p1,x0_guess)[0]                     #point at which p(x) is at its maximum\n",
        "# print(x0)\n",
        "# print(p(x0))\n",
        "\n",
        "xx = [x0]\n",
        "# xx_not = []\n",
        "\n",
        "delta = 3\n",
        "\n",
        "d = random.uniform(-delta,delta,N)\n",
        "\n",
        "r = random.random(N)\n",
        "\n",
        "for i in range(N):\n",
        "    xt = xx[i]+d[i]\n",
        "    w = p(xt)/p(xx[i])\n",
        "    if w >= 1:\n",
        "        xx.append(xt)\n",
        "    else:\n",
        "        if r[i] <= w:\n",
        "            xx.append(xt)\n",
        "        else:\n",
        "#             xx_not.append(xt)\n",
        "            xx.append(xx[i])\n",
        "\n",
        "x_true = []\n",
        "\n",
        "for i in range(len(xx)-1):\n",
        "    if xx[i] != xx[i+1]:\n",
        "        x_true.append(xx[i])\n",
        "\n",
        "x_true = np.array(x_true)\n",
        "print(x_true)\n",
        "\n",
        "binwidth = (b-a)/25\n",
        "bins = np.arange(np.floor(min(x_true)), np.floor(max(x_true))+binwidth, binwidth)\n",
        "\n",
        "\n",
        "plt.plot(xp,p(xp))\n",
        "# plt.hist(x_true,bins)\n",
        "# plt.draw()\n",
        "plt.show()"
      ]
    },
    {
      "cell_type": "markdown",
      "id": "c7b86cf8",
      "metadata": {
        "id": "c7b86cf8"
      },
      "source": [
        "Still does not work properly unfortunately"
      ]
    },
    {
      "cell_type": "code",
      "execution_count": null,
      "id": "a7bbd766",
      "metadata": {
        "id": "a7bbd766"
      },
      "outputs": [],
      "source": []
    }
  ],
  "metadata": {
    "kernelspec": {
      "display_name": "Python 3 (ipykernel)",
      "language": "python",
      "name": "python3"
    },
    "language_info": {
      "codemirror_mode": {
        "name": "ipython",
        "version": 3
      },
      "file_extension": ".py",
      "mimetype": "text/x-python",
      "name": "python",
      "nbconvert_exporter": "python",
      "pygments_lexer": "ipython3",
      "version": "3.11.3"
    },
    "colab": {
      "provenance": [],
      "include_colab_link": true
    }
  },
  "nbformat": 4,
  "nbformat_minor": 5
}