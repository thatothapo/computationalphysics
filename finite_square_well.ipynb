{
  "nbformat": 4,
  "nbformat_minor": 0,
  "metadata": {
    "colab": {
      "provenance": [],
      "authorship_tag": "ABX9TyM1K1hmm2sPRK7qEdRjwOiG",
      "include_colab_link": true
    },
    "kernelspec": {
      "name": "python3",
      "display_name": "Python 3"
    },
    "language_info": {
      "name": "python"
    }
  },
  "cells": [
    {
      "cell_type": "markdown",
      "metadata": {
        "id": "view-in-github",
        "colab_type": "text"
      },
      "source": [
        "<a href=\"https://colab.research.google.com/github/thatothapo/computationalphysics/blob/main/finite_square_well.ipynb\" target=\"_parent\"><img src=\"https://colab.research.google.com/assets/colab-badge.svg\" alt=\"Open In Colab\"/></a>"
      ]
    },
    {
      "cell_type": "markdown",
      "source": [
        "# Energy Levels of the Finite Square Well\n",
        "\n",
        "We want to find the energy and plot the corresponding wave function of a particle in the ground state of a finite square well.\n",
        "\n",
        "Consider the equation, $$ l\\tan(la) = κ, $$ with $l = \\sqrt{2m(V_0 - ϵ)/ħ^2}$ and $κ = \\sqrt{2mϵ/ħ^2}$.\n",
        "\n",
        "In order to apply numerical methods on it, we can use it in the form, $$ F(ϵ) = l\\tan(la) - κ = 0. $$ We can plot the function $F(ϵ)$ to see the neighborhood around the root:"
      ],
      "metadata": {
        "id": "4kwSN9GsAUbl"
      }
    },
    {
      "cell_type": "code",
      "execution_count": 1,
      "metadata": {
        "id": "ilDQ1QZhALyY"
      },
      "outputs": [],
      "source": [
        "import numpy as np\n",
        "import matplotlib.pyplot as plt"
      ]
    },
    {
      "cell_type": "code",
      "source": [
        "mc = 0.511E+6\n",
        "hc = 197.3\n",
        "Vo = 40.0\n",
        "a = 0.05\n",
        "\n",
        "eps1=np.linspace(20, 30, num=200)"
      ],
      "metadata": {
        "id": "EYoIh9naCPJL"
      },
      "execution_count": 11,
      "outputs": []
    },
    {
      "cell_type": "code",
      "source": [
        "def f(eps):\n",
        "    l = np.sqrt((2.0*mc*(Vo-eps))/(hc**2))\n",
        "    K = np.sqrt((2.0*mc*eps)/(hc**2))\n",
        "    return l*np.tan(l*a)-K"
      ],
      "metadata": {
        "id": "-o1dvj__CSqq"
      },
      "execution_count": 12,
      "outputs": []
    },
    {
      "cell_type": "code",
      "source": [
        "plt.plot(eps1, f(eps1), 'k-')\n",
        "plt.grid()\n",
        "plt.savefig('plot1.png', dpi=200)\n",
        "plt.show()\n",
        "# Need to highlight zero better"
      ],
      "metadata": {
        "colab": {
          "base_uri": "https://localhost:8080/",
          "height": 430
        },
        "id": "JPfC1SvSCVW0",
        "outputId": "fd557be6-f90b-4f09-e265-73dfcb7abc44"
      },
      "execution_count": 13,
      "outputs": [
        {
          "output_type": "display_data",
          "data": {
            "text/plain": [
              "<Figure size 640x480 with 1 Axes>"
            ],
            "image/png": "[encoded data removed]"
          },
          "metadata": {}
        }
      ]
    },
    {
      "cell_type": "markdown",
      "source": [
        "We can see the root lies between 26 and 27 in the figure above so we have our bounds for when we employ root finding methods. The first is the brute force grid search method."
      ],
      "metadata": {
        "id": "VoMXVUGmCfDf"
      }
    },
    {
      "cell_type": "code",
      "source": [
        "a0 = 26\n",
        "eps1 = a0\n",
        "n = 0\n",
        "\n",
        "while True:\n",
        "    if f(eps1)*f(eps1+1E-5)<0:\n",
        "        print(eps1, n)\n",
        "        break\n",
        "    else:\n",
        "        eps1=eps1+1E-5\n",
        "        n=n+1\n",
        "\n",
        "# Give units, an interval and write out everything neatly."
      ],
      "metadata": {
        "colab": {
          "base_uri": "https://localhost:8080/"
        },
        "id": "TuUUsPqJDGhJ",
        "outputId": "be2e4797-d525-4df4-dbd3-beb8633f4796"
      },
      "execution_count": 14,
      "outputs": [
        {
          "output_type": "stream",
          "name": "stdout",
          "text": [
            "26.343219999987006 34322\n"
          ]
        }
      ]
    },
    {
      "cell_type": "markdown",
      "source": [
        "Next, we use the Bisection method, which significantly reduces the number of iterations needed to reach an even better tolerance of $1×10^{-10}$, and we get,"
      ],
      "metadata": {
        "id": "QfUYmY6aDVWt"
      }
    },
    {
      "cell_type": "code",
      "source": [
        "a0 = 26\n",
        "b0 = 27\n",
        "n = 0\n",
        "\n",
        "while b0-a0 >= 1E-10:\n",
        "    eps1=(a0+b0)/2\n",
        "    if f(eps1)<0:\n",
        "        b0=eps1\n",
        "    elif f(eps1)>0:\n",
        "        a0=eps1\n",
        "    else:\n",
        "        a0=b0\n",
        "    n=n+1\n",
        "\n",
        "print(eps1, '\\n', n)"
      ],
      "metadata": {
        "colab": {
          "base_uri": "https://localhost:8080/"
        },
        "id": "syoXXAImD3XN",
        "outputId": "8543d6ec-a819-46c5-a361-6c9a64d165df"
      },
      "execution_count": 15,
      "outputs": [
        {
          "output_type": "stream",
          "name": "stdout",
          "text": [
            "26.343225548102055 \n",
            " 34\n"
          ]
        }
      ]
    },
    {
      "cell_type": "markdown",
      "source": [
        "Using the Secant method, we see the benefits almost instantly via the number of iterations needed to get results with the same tolerance, as shown below,"
      ],
      "metadata": {
        "id": "v0raCVUoH96o"
      }
    },
    {
      "cell_type": "code",
      "source": [
        "tolerance = 1.0e-10\n",
        "dx = 0.1\n",
        "x0 = 25\n",
        "f0 = f(x0)\n",
        "x1 = x0+dx\n",
        "f1 = f(x1)\n",
        "n=0\n",
        "\n",
        "\n",
        "while 1:\n",
        "    dx = -f1*dx/(f1-f0)\n",
        "    x2 = x1+dx\n",
        "    f2 = f(x2)\n",
        "    if abs((x2-x1)/x2)<tolerance:break\n",
        "    x1, f0, f1 = x2, f1, f2\n",
        "    n=n+1\n",
        "\n",
        "print(x2,'\\n',n)"
      ],
      "metadata": {
        "colab": {
          "base_uri": "https://localhost:8080/"
        },
        "id": "l6u0wmTvIOl-",
        "outputId": "f8b59389-773d-4148-8702-0b2f85360354"
      },
      "execution_count": 16,
      "outputs": [
        {
          "output_type": "stream",
          "name": "stdout",
          "text": [
            "26.343225548140303 \n",
            " 4\n"
          ]
        }
      ]
    },
    {
      "cell_type": "markdown",
      "source": [
        "For the Hydrogen atom, we have the binding energy $E_0 = -ϵ = -13.6eV$. So our function will now be a function of $V_0$ and from our definition of $l$ and $\\kappa$, we keep $ϵ$ constant."
      ],
      "metadata": {
        "id": "rOkKlCA7FuaJ"
      }
    },
    {
      "cell_type": "code",
      "source": [
        "eps = 13.6\n",
        "a = 0.05\n",
        "\n",
        "V=np.linspace(15, 30, num=200)"
      ],
      "metadata": {
        "id": "W6vvxq5LGh-l"
      },
      "execution_count": 7,
      "outputs": []
    },
    {
      "cell_type": "code",
      "source": [
        "def f(Vo):\n",
        "    l = np.sqrt((2.0*mc*(Vo-eps))/(hc**2))\n",
        "    K = np.sqrt((2.0*mc*eps)/(hc**2))\n",
        "    return l*np.tan(l*a)-K"
      ],
      "metadata": {
        "id": "IE9IgiXLHEkY"
      },
      "execution_count": 8,
      "outputs": []
    },
    {
      "cell_type": "code",
      "source": [
        "plt.plot(V, f(V), 'k-')\n",
        "plt.grid()\n",
        "plt.savefig('plot2.png', dpi=200)\n",
        "plt.show()"
      ],
      "metadata": {
        "colab": {
          "base_uri": "https://localhost:8080/",
          "height": 430
        },
        "id": "rZgwuoCmHMI8",
        "outputId": "375cf09c-ce88-429d-9d57-d4c9f9716f85"
      },
      "execution_count": 9,
      "outputs": [
        {
          "output_type": "display_data",
          "data": {
            "text/plain": [
              "<Figure size 640x480 with 1 Axes>"
            ],
            "image/png": "[encoded data removed]"
          },
          "metadata": {}
        }
      ]
    },
    {
      "cell_type": "markdown",
      "source": [
        "We can see here that the root is between 24 and 25, so we can use the Bisection method again to get,"
      ],
      "metadata": {
        "id": "YMqqs5G4HRaO"
      }
    },
    {
      "cell_type": "code",
      "source": [
        "a0 = 22\n",
        "b0 = 26\n",
        "n = 0\n",
        "\n",
        "while b0-a0 >= 1E-10:\n",
        "    V=(a0+b0)/2\n",
        "    f(V)\n",
        "    if f(V)<0:\n",
        "        a0=V\n",
        "    elif f(V)>0:\n",
        "        b0=V\n",
        "    else:\n",
        "        a0=b0\n",
        "    n=n+1\n",
        "#    print(eps1)\n",
        "\n",
        "print(V, n)"
      ],
      "metadata": {
        "colab": {
          "base_uri": "https://localhost:8080/"
        },
        "id": "8b_fd-JOHbhW",
        "outputId": "020da091-5eab-47b7-c337-5c3834445908"
      },
      "execution_count": 10,
      "outputs": [
        {
          "output_type": "stream",
          "name": "stdout",
          "text": [
            "24.41555648628855 36\n"
          ]
        }
      ]
    }
  ]
}